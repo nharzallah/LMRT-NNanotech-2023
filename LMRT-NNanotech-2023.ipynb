{
 "cells": [
  {
   "cell_type": "markdown",
   "source": [
    "Data Analysis:\n",
    "- Your working directory must contain the python file (LMRT-NNanotech-2023.py), and excel data file (template.xlsx). The output folders (Kinetics, FC, Rates) will be saved in this same directory."
   ],
   "metadata": {}
  },
  {
   "cell_type": "markdown",
   "source": [
    "Raw_template.xlsx:\n",
    "- It is important that you use the template (Raw_template.xlsx) to load your raw data. Simply replace the data in the first excel sheet (named \"Raw\") and make sure the data is correctly populated in the \"*-kinetics\" and \"*-FC\" sheets.\n",
    "- In the given template, data from two screens are loaded (Tissue 1 and Tissue 2 are tested with 42 different fluorescent peptides in duplicates, one fluorescence read is recorded every 3 minutes during 2 hours). You can add other sheets to the template. Make sure they are named with the suffix \"kinetics\" and \"FC\" before you run the python analysis. "
   ],
   "metadata": {}
  },
  {
   "cell_type": "markdown",
   "source": [
    "Data Visualization:\n",
    "- If you want to automate the visualization of processed data with PRISM, make sure you have the PRISM-Script.pzc and PRISM-Template.pzfx in your working directory.\n",
    "- If you are on mac OS, you can automate launching PRISM using the PRISM-Apple-Launcher.scpt, which is called in the last line of the LMRT-NNanotech-2023.py. If you are running another operating system, comment out the last line of LMRT-NNanotech-2023.py, and manually open PRISM-Script.pzc (which should launch PRISM)."
   ],
   "metadata": {}
  },
  {
   "cell_type": "markdown",
   "source": [
    "Now, we will go through the python code and explain section by section: "
   ],
   "metadata": {}
  },
  {
   "cell_type": "markdown",
   "source": [
    "Star by importing the necessary packages:"
   ],
   "metadata": {}
  },
  {
   "cell_type": "code",
   "execution_count": 1,
   "source": [
    "import pandas as pd\n",
    "import numpy as np\n",
    "from sklearn.linear_model import LinearRegression\n",
    "import os\n",
    "from itertools import islice"
   ],
   "outputs": [],
   "metadata": {}
  },
  {
   "cell_type": "code",
   "execution_count": 2,
   "source": [
    "#Create directory to house all outputs\n",
    "folder_name=input(\"What would you like to name the folder? \")\n",
    "os.mkdir('./'+(folder_name)+'')"
   ],
   "outputs": [],
   "metadata": {}
  },
  {
   "cell_type": "markdown",
   "source": [
    "Import and convert the raw excel (template.xlsx) data file (must be in the same directory as the python file, or adjust the path to wherever your data file is) into csv files: \n",
    "- This section will result in two new directories: \n",
    "1) \"Kinetics\" will contain a separate csv file with kinetics data for each different tissue.\n",
    "2) \"FC\" will contain a separate csv file with the fold change data for each different tissue."
   ],
   "metadata": {}
  },
  {
   "cell_type": "code",
   "execution_count": 3,
   "source": [
    "pd.options.mode.chained_assignment = None\n",
    "#Convert Excel Sheets (Kinetics and Fold Change) into individual CSV Files for each Tissue Sample\n",
    "\n",
    "os.mkdir('./Kinetics')\n",
    "excel_file=input(\"Enter name of Excel File \")\n",
    "f=input(\"index of first Kinetics sheet \") #in the template given, this would be \"3\"\n",
    "l=input(\"index of last Kinetics sheet \") #in the template given, this would be \"4\"\n",
    "sheets_dict=pd.read_excel(excel_file, sheet_name=None)\n",
    "for name,sheet in islice(sheets_dict.items(),int(f),int(l)+1):\n",
    "    sheet.to_csv(os.path.join('./Kinetics', name + '.csv'), index= None, header =False)\n",
    "\n",
    "os.mkdir('./FC')\n",
    "f=input(\"index of first FC sheet \") #in the template given, this would be \"5\"\n",
    "l=input(\"index of last FC sheet \")  #in the template given, this would be \"6\"\n",
    "for name,sheet in islice(sheets_dict.items(),int(f),int(l)+1):\n",
    "    sheet.to_csv(os.path.join('./FC', name + '.csv'), index= None, header =False)"
   ],
   "outputs": [],
   "metadata": {}
  },
  {
   "cell_type": "markdown",
   "source": [
    "- This section will result in a directory called \"Rates\" containing:\n",
    "1) a separate csv file with kinetic cleavage rates of each tissue\n",
    "2) a csv file combining the kinetic cleavage rates of all tissues"
   ],
   "metadata": {}
  },
  {
   "cell_type": "code",
   "execution_count": 4,
   "source": [
    "#Calculating Linear Regression slope (cleavage rate) for each tissue\n",
    "os.mkdir('./Rate')\n",
    "\n",
    "a = input(\"Do you want to use the same number of time points for all tissues? (y/n) \") #in the template given, this would be \"y\"\n",
    "if a == \"y\":\n",
    "    t=input(\"How many time points are you considering? \") #in the template given, this would be \"8\" since the linear range lasts for approximately the first 8 time points for both tissues\n",
    "\n",
    "for filename in os.scandir('./Kinetics'):\n",
    "    if(filename.path.endswith(\"csv\")):\n",
    "        name = os.path.splitext(os.path.basename(filename))[0]\n",
    "        data=pd.read_csv(filename, header=None)\n",
    "        av=np.zeros(shape=(len(data),int((len(data.columns)+1)/2)), dtype=object)\n",
    "\n",
    "        j=0\n",
    "        for i in range(int((len(data.columns)+1)/2)):\n",
    "            av[0][i]=data[j][0]\n",
    "            j=j+2\n",
    "        for i in range(len(data)):\n",
    "            av[i][0]=data[0][i]\n",
    "\n",
    "\n",
    "        for i in range(1, len(av) ):\n",
    "            k=1\n",
    "            for j in range(1, len(av[0])):\n",
    "                av[i][j]=(pd.to_numeric(data[k][i]) + (pd.to_numeric(data[k+1][i])))/2\n",
    "                k=k+2\n",
    "        \n",
    "        average = pd.DataFrame(av)\n",
    "        \n",
    "        header=average.iloc[0]\n",
    "        average=average[1:]\n",
    "        average.columns=header\n",
    "        average = average.apply(pd.to_numeric)\n",
    "        \n",
    "        #ask for number of time points\n",
    "        if a == \"n\":\n",
    "            t=input(\"How many time points are you considering for \" + name + \"? \")\n",
    "            average=average[:int(t)]\n",
    "        else:\n",
    "            average=average[:int(t)]\n",
    "\n",
    "\n",
    "        x=np.array(average['Time (min)']).reshape(-1,1)\n",
    "        rate=average.iloc[:1, :]\n",
    "        \n",
    "        rate.iloc[0,0] = name\n",
    "        rate.columns.values[0]= t +' Time Points'\n",
    "\n",
    "        for i in range(1,average.shape[1]):\n",
    "            y=np.array(average.iloc[:,i]).reshape(-1,1)\n",
    "            regressor=LinearRegression()\n",
    "            regressor.fit(x,y)\n",
    "            rate.iloc[0,i]=float(regressor.coef_)\n",
    "            \n",
    "        rate.to_csv(os.path.join('./Rate/', name + '_Rate.csv'))\n",
    "\n",
    "\n",
    "#Combining Cleavage Rates for all tissues in one file\n",
    "import glob\n",
    "os.chdir('./Rate/')\n",
    "extension='csv'\n",
    "all_filenames=[i for i in glob.glob('*.{}'.format(extension))]\n",
    "combined_csv=pd.concat([pd.read_csv(f, index_col=0) for f in all_filenames])\n",
    "combined_csv.to_csv(\"Rates.csv\", index=False)\n",
    "\n",
    "#Converting the Cleavage rate into PRISM friendly format\n",
    "data=pd.read_csv(\"Rates.csv\",  index_col=0, header=None)\n",
    "data=data.transpose()\n",
    "data.to_csv('Rates.csv', index=False)"
   ],
   "outputs": [],
   "metadata": {}
  },
  {
   "cell_type": "markdown",
   "source": [
    "All resulting csv files are PRISM compatible and can seamlessly be imported into PRISM. If you want to automate PRISM visualization you can either:\n",
    "1) Run the PRISM-Script.pzc (this script will use PRISM-Template.pzfx as a template). Open the PRISM-Script.pzc with a text editor or PRISM to edit the name of the directory (it should be the same directory where the output of the python script and the PRISM-Template.pzfx are) in every line that starts with \"Set Path\".\n",
    "2) If you are working on Mac OS, the last section of the python script will automatically launch PRISM using the PRISM-Apple_Launcher.scpt which must be in the same directory as the python outputs and PRISM-Template.pzfx. If you are using another operating system, comment out this line."
   ],
   "metadata": {}
  },
  {
   "cell_type": "code",
   "execution_count": 5,
   "source": [
    "os.mkdir('../PRISM')\n",
    "os.system('cd ..; osascript PRISM-Apple-Launcher.scpt; mv Kinetics Rate PRISM FC '+(folder_name)+'')\n"
   ],
   "outputs": [
    {
     "output_type": "execute_result",
     "data": {
      "text/plain": [
       "0"
      ]
     },
     "metadata": {},
     "execution_count": 5
    }
   ],
   "metadata": {}
  }
 ],
 "metadata": {
  "orig_nbformat": 4,
  "language_info": {
   "name": "python",
   "version": "3.8.8",
   "mimetype": "text/x-python",
   "codemirror_mode": {
    "name": "ipython",
    "version": 3
   },
   "pygments_lexer": "ipython3",
   "nbconvert_exporter": "python",
   "file_extension": ".py"
  },
  "kernelspec": {
   "name": "python3",
   "display_name": "Python 3.8.8 64-bit ('base': conda)"
  },
  "interpreter": {
   "hash": "12fbc79e647b80434a794d8d39b7380bf5a91e528aac5be47ae7bf8a97e1106d"
  }
 },
 "nbformat": 4,
 "nbformat_minor": 2
}
